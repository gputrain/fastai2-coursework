{
 "cells": [
  {
   "cell_type": "markdown",
   "id": "b59e9583-777d-4ca4-84e2-8e9c50c5e665",
   "metadata": {},
   "source": [
    "# Few shot named entity recognition for story theme"
   ]
  },
  {
   "cell_type": "markdown",
   "id": "31e4c1c2-cacb-4a29-b9dc-4e94ed951f8e",
   "metadata": {},
   "source": [
    "##### Add these through pip to fastai space"
   ]
  },
  {
   "cell_type": "code",
   "execution_count": null,
   "id": "6c842a7c-5929-446c-aa20-5591769f6fb3",
   "metadata": {},
   "outputs": [],
   "source": [
    "# !pip install concise-concepts\n",
    "# !python -m spacy download en_core_web_lg"
   ]
  },
  {
   "cell_type": "code",
   "execution_count": 40,
   "id": "250cb13d-600c-466e-908a-52804940d764",
   "metadata": {},
   "outputs": [],
   "source": [
    "import spacy\n",
    "from spacy import displacy\n",
    "import concise_concepts"
   ]
  },
  {
   "cell_type": "code",
   "execution_count": 109,
   "id": "7050bbec-eb94-4f3f-bded-a79d6aa28a7a",
   "metadata": {},
   "outputs": [],
   "source": [
    "data = {\n",
    "    \"charachter\": [\"elephant\", \"animal\",\"ant\",\"princess\",\"orc\",\"travellers\",\"charlotte\",\"hare\",\"tortoise\",\"crow\",\"swan\",\"duck\"],\n",
    "    \"location\": [\"anthill\",\"home\",\"mordor\",\"forest\",\"water\",\"sea\",\"vineyard\",\"pond\"],\n",
    "    \"conflict\": [\"cry\",\"crush\",\"howl\",\"mistake\",\"attack\",\"fought\",\"empty\",\"ugly\"],\n",
    "    \"objects\": [\"purple\",\"unicorn\",\"sword\",\"pebble\",\"pot\",\"grape\"],\n",
    "    \"time\": [\"once\",\"long\",\"ago\",\"night\",\"months\"]\n",
    "}"
   ]
  },
  {
   "cell_type": "code",
   "execution_count": 122,
   "id": "41a5adc4-eb88-480b-89c0-a96447f415f2",
   "metadata": {},
   "outputs": [],
   "source": [
    "text = \"\"\"\n",
    "Once there was a hungry fox who stumbled upon a vineyard. \n",
    "After seeing the round, juicy grapes hanging in a bunch, the fox drooled. \n",
    "But no matter how high he jumped, he couldn’t reach for it. \n",
    "So he told himself that it was probably sour and left. \n",
    "That night, he had to sleep on an empty stomach.\n",
    "\"\"\""
   ]
  },
  {
   "cell_type": "code",
   "execution_count": 123,
   "id": "d9a972a8-b8de-459b-8294-a903573bb0d1",
   "metadata": {},
   "outputs": [],
   "source": [
    "nlp = spacy.load(\"en_core_web_lg\", disable=[\"ner\"])\n",
    "# ent_score for entity condifence scoring\n",
    "nlp.add_pipe(\"concise_concepts\", config={\"data\": data, \"ent_score\": True})\n",
    "doc = nlp(text)\n",
    "\n",
    "options = {\"colors\": {\"charachter\": \"darkorange\", \n",
    "                      \"location\": \"limegreen\", \n",
    "                      \"conflict\": \"red\",\n",
    "                      \"objects\":\"yellow\",\n",
    "                      \"time\":\"lightblue\",\n",
    "                     \n",
    "                     },\n",
    "           \n",
    "           \"ents\": [\"charachter\", \"location\", \"conflict\", \"objects\",\"time\"]}"
   ]
  },
  {
   "cell_type": "code",
   "execution_count": 124,
   "id": "7fa3a231-cd01-431f-8871-40afc0da7e2d",
   "metadata": {},
   "outputs": [],
   "source": [
    "ents = doc.ents\n",
    "for ent in ents:\n",
    "    new_label = f\"{ent.label_} ({float(ent._.ent_score):.0%})\"\n",
    "    options[\"colors\"][new_label] = options[\"colors\"].get(ent.label_.lower(), None)\n",
    "    options[\"ents\"].append(new_label)\n",
    "    ent.label_ = new_label\n",
    "doc.ents = ents"
   ]
  },
  {
   "cell_type": "code",
   "execution_count": 125,
   "id": "07e4c87c-7bbd-4c88-beb0-484c4335bfa0",
   "metadata": {},
   "outputs": [
    {
     "data": {
      "text/html": [
       "<span class=\"tex2jax_ignore\"><div class=\"entities\" style=\"line-height: 2.5; direction: ltr\"></br>\n",
       "<mark class=\"entity\" style=\"background: lightblue; padding: 0.45em 0.6em; margin: 0 0.25em; line-height: 1; border-radius: 0.35em;\">\n",
       "    Once\n",
       "    <span style=\"font-size: 0.8em; font-weight: bold; line-height: 1; border-radius: 0.35em; vertical-align: middle; margin-left: 0.5rem\">TIME (75%)</span>\n",
       "</mark>\n",
       " \n",
       "<mark class=\"entity\" style=\"background: lightblue; padding: 0.45em 0.6em; margin: 0 0.25em; line-height: 1; border-radius: 0.35em;\">\n",
       "    there\n",
       "    <span style=\"font-size: 0.8em; font-weight: bold; line-height: 1; border-radius: 0.35em; vertical-align: middle; margin-left: 0.5rem\">TIME (66%)</span>\n",
       "</mark>\n",
       " was a \n",
       "<mark class=\"entity\" style=\"background: darkorange; padding: 0.45em 0.6em; margin: 0 0.25em; line-height: 1; border-radius: 0.35em;\">\n",
       "    hungry fox\n",
       "    <span style=\"font-size: 0.8em; font-weight: bold; line-height: 1; border-radius: 0.35em; vertical-align: middle; margin-left: 0.5rem\">CHARACHTER (67%)</span>\n",
       "</mark>\n",
       " who stumbled upon a \n",
       "<mark class=\"entity\" style=\"background: yellow; padding: 0.45em 0.6em; margin: 0 0.25em; line-height: 1; border-radius: 0.35em;\">\n",
       "    vineyard\n",
       "    <span style=\"font-size: 0.8em; font-weight: bold; line-height: 1; border-radius: 0.35em; vertical-align: middle; margin-left: 0.5rem\">OBJECTS (35%)</span>\n",
       "</mark>\n",
       ". </br>\n",
       "<mark class=\"entity\" style=\"background: lightblue; padding: 0.45em 0.6em; margin: 0 0.25em; line-height: 1; border-radius: 0.35em;\">\n",
       "    After\n",
       "    <span style=\"font-size: 0.8em; font-weight: bold; line-height: 1; border-radius: 0.35em; vertical-align: middle; margin-left: 0.5rem\">TIME (71%)</span>\n",
       "</mark>\n",
       " seeing the round, \n",
       "<mark class=\"entity\" style=\"background: yellow; padding: 0.45em 0.6em; margin: 0 0.25em; line-height: 1; border-radius: 0.35em;\">\n",
       "    juicy grapes\n",
       "    <span style=\"font-size: 0.8em; font-weight: bold; line-height: 1; border-radius: 0.35em; vertical-align: middle; margin-left: 0.5rem\">OBJECTS (57%)</span>\n",
       "</mark>\n",
       " hanging in a bunch, the \n",
       "<mark class=\"entity\" style=\"background: darkorange; padding: 0.45em 0.6em; margin: 0 0.25em; line-height: 1; border-radius: 0.35em;\">\n",
       "    fox\n",
       "    <span style=\"font-size: 0.8em; font-weight: bold; line-height: 1; border-radius: 0.35em; vertical-align: middle; margin-left: 0.5rem\">CHARACHTER (63%)</span>\n",
       "</mark>\n",
       " drooled. </br>\n",
       "<mark class=\"entity\" style=\"background: lightblue; padding: 0.45em 0.6em; margin: 0 0.25em; line-height: 1; border-radius: 0.35em;\">\n",
       "    But\n",
       "    <span style=\"font-size: 0.8em; font-weight: bold; line-height: 1; border-radius: 0.35em; vertical-align: middle; margin-left: 0.5rem\">TIME (64%)</span>\n",
       "</mark>\n",
       " no matter how high he jumped, he \n",
       "<mark class=\"entity\" style=\"background: lightblue; padding: 0.45em 0.6em; margin: 0 0.25em; line-height: 1; border-radius: 0.35em;\">\n",
       "    could\n",
       "    <span style=\"font-size: 0.8em; font-weight: bold; line-height: 1; border-radius: 0.35em; vertical-align: middle; margin-left: 0.5rem\">TIME (62%)</span>\n",
       "</mark>\n",
       "n’t reach for \n",
       "<mark class=\"entity\" style=\"background: lightblue; padding: 0.45em 0.6em; margin: 0 0.25em; line-height: 1; border-radius: 0.35em;\">\n",
       "    it\n",
       "    <span style=\"font-size: 0.8em; font-weight: bold; line-height: 1; border-radius: 0.35em; vertical-align: middle; margin-left: 0.5rem\">TIME (65%)</span>\n",
       "</mark>\n",
       ". </br>\n",
       "<mark class=\"entity\" style=\"background: lightblue; padding: 0.45em 0.6em; margin: 0 0.25em; line-height: 1; border-radius: 0.35em;\">\n",
       "    So\n",
       "    <span style=\"font-size: 0.8em; font-weight: bold; line-height: 1; border-radius: 0.35em; vertical-align: middle; margin-left: 0.5rem\">TIME (66%)</span>\n",
       "</mark>\n",
       " he told himself that \n",
       "<mark class=\"entity\" style=\"background: lightblue; padding: 0.45em 0.6em; margin: 0 0.25em; line-height: 1; border-radius: 0.35em;\">\n",
       "    it\n",
       "    <span style=\"font-size: 0.8em; font-weight: bold; line-height: 1; border-radius: 0.35em; vertical-align: middle; margin-left: 0.5rem\">TIME (65%)</span>\n",
       "</mark>\n",
       " was probably \n",
       "<mark class=\"entity\" style=\"background: lightblue; padding: 0.45em 0.6em; margin: 0 0.25em; line-height: 1; border-radius: 0.35em;\">\n",
       "    sour\n",
       "    <span style=\"font-size: 0.8em; font-weight: bold; line-height: 1; border-radius: 0.35em; vertical-align: middle; margin-left: 0.5rem\">TIME (21%)</span>\n",
       "</mark>\n",
       " and left. </br>That \n",
       "<mark class=\"entity\" style=\"background: lightblue; padding: 0.45em 0.6em; margin: 0 0.25em; line-height: 1; border-radius: 0.35em;\">\n",
       "    night\n",
       "    <span style=\"font-size: 0.8em; font-weight: bold; line-height: 1; border-radius: 0.35em; vertical-align: middle; margin-left: 0.5rem\">TIME (70%)</span>\n",
       "</mark>\n",
       ", he had to sleep on an \n",
       "<mark class=\"entity\" style=\"background: red; padding: 0.45em 0.6em; margin: 0 0.25em; line-height: 1; border-radius: 0.35em;\">\n",
       "    empty\n",
       "    <span style=\"font-size: 0.8em; font-weight: bold; line-height: 1; border-radius: 0.35em; vertical-align: middle; margin-left: 0.5rem\">CONFLICT (54%)</span>\n",
       "</mark>\n",
       " stomach.</br></div></span>"
      ],
      "text/plain": [
       "<IPython.core.display.HTML object>"
      ]
     },
     "metadata": {},
     "output_type": "display_data"
    }
   ],
   "source": [
    "displacy.render(doc, style=\"ent\", options=options)"
   ]
  },
  {
   "cell_type": "code",
   "execution_count": null,
   "id": "f7cb055a-0d93-44c1-835c-5e8845e01364",
   "metadata": {},
   "outputs": [],
   "source": []
  },
  {
   "cell_type": "markdown",
   "id": "3dfddc5e-f2d7-4241-a5f1-12989eab3db4",
   "metadata": {},
   "source": [
    "Checkout these links:\n",
    "\n",
    "- [ ] https://medium.com/mysuperai/what-is-named-entity-recognition-ner-and-how-can-i-use-it-2b68cf6f545d\n",
    "- [ ] lookup this blog https://medium.com/mlearning-ai/few-shot-named-entity-recognition-in-natural-language-processing-92d31f0d1143\n",
    "- [ ] lookup these builds at hugging faces https://huggingface.co/spaces/Gradio-Blocks/Story_and_Video_Generation & https://huggingface.co/spaces/Gradio-Blocks/Story-to-video\n",
    "- [ ] https://huggingface.co/spaces/hackathon-pln-es/Spanish-Medical-NER and https://huggingface.co/fmmolina/bert-base-spanish-wwm-uncased-finetuned-NER-medical/tree/main"
   ]
  },
  {
   "cell_type": "markdown",
   "id": "26fe24f0-6b7b-4733-b0fa-32d8f196fbf3",
   "metadata": {},
   "source": [
    "----"
   ]
  },
  {
   "cell_type": "markdown",
   "id": "d5038343-e93c-4372-a5f1-8628215fc0c7",
   "metadata": {},
   "source": [
    "##### Training data\n",
    "\n",
    "Princess Charlotte was riding her purple unicorn through the forest of Mordor when she came across a group of Orcs. The Orcs were attacking a group of travelers and Princess Charlotte rode to their aid. She fought off the Orcs with her sword and saved the travelers.\n",
    "\n",
    "There was once a hare who was friends with a tortoise. One day, he challenged the tortoise to a race. Seeing how slow the tortoise was going, the hare thought he’ll win this easily. So he took a nap while the tortoise kept on going. When the hare woke up, he saw that the tortoise was already at the finish line. Much to his chagrin, the tortoise won the race while he was busy sleeping.\n",
    "\n",
    "Once there was a dog who wandered the streets night and day in search of food. One day, he found a big juicy bone and he immediately grabbed it between his mouth and took it home. On his way home, he crossed a river and saw another dog who also had a bone in its mouth. He wanted that bone for himself too. But as he opened his mouth, the bone he was biting fell into the river and sank. That night, he went home hungry.\n",
    "\n",
    "After flying a long distance, a thirsty crow was wandering the forest in search of water. Finally, he saw a pot half-filled with water. He tried to drink from it but his beak wasn’t long enough to reach the water inside. He then saw pebbles on the ground and one by one, he put them in the pot until the water rose to the brim. The crow then hastily drank from it and quenched his thirst.\n",
    "\n",
    "There was a boy named John who was so lazy, he couldn’t even bother to change his clothes. One day, he saw that the apple tree in their yard was full of fruits. He wanted to eat some apples but he was too lazy to climb the tree and take the fruits. So he lay down underneath the tree and waited for the fruits to fall off. John waited and waited until he was very hungry but the apples never fell.\n",
    "\n",
    "Once there was a hungry fox who stumbled upon a vineyard. After seeing the round, juicy grapes hanging in a bunch, the fox drooled. But no matter how high he jumped, he couldn’t reach for it. So he told himself that it was probably sour and left. That night, he had to sleep on an empty stomach.\n",
    "\n",
    "The ant and the grasshopper were good friends. In the summer, the ant works hard to fill his storage with food. While the grasshopper was enjoying the fine weather and playing all day. When winter came, the ant was lying cozily in his home surrounded by the food he stored during the summer. While the grasshopper was in his home, hungry and freezing. He asked the ant for food and the ant gave him some. But it wasn’t enough to last the entire winter. When he tried to ask the ant again, the latter replied: “I’m sorry my friend but my food is just enough for my family to last until the end of winter. If I give you more, we too will starve. We had the entire summer to prepare for the winter but you chose to play instead.”\n",
    "\n",
    "There was once a shepherd boy who liked to play tricks. One day, while he was watching over the herd, the boy decided to play a trick and cried “wolf! wolf!”. The people who heard rushed over to help him. But they were disappointed when they saw that there was no wolf and the boy was laughing at them. The next day, he did it again and people rushed to his aid only to be disappointed once again. On the third day, the boy saw a wolf devouring one of his sheep and cried for help. But the people who heard him thought this is just another of the boy’s pranks so no one came to help him. That day, the boy lost some of his sheep to the wolf.\n",
    "\n",
    "Most of us have probably heard of this story as this is one of the most popular fairy tales in the world. The story revolves around a duckling who from the moment of his birth has always felt different from his siblings. He was always picked on because he didn’t look like the rest of them. One day, he had enough and ran away from the pond he grew up in. He wandered near and far looking for a family who would accept him. Months passed and seasons changed but everywhere he went, nobody wanted him because he was such an ugly duck. Then one day, he came upon a family of swans. Upon looking at them, he realized that during the months he spent looking for a family to call his own, he had grown into a beautiful swan. Now he finally understood why he never looked like the rest of his siblings because he isn’t a duck but a swan.\n",
    "\n",
    "There was once a slave who was treated cruelly by his master. One day, he couldn’t take it anymore and ran away to the forest to escape. There he chanced upon a lion who couldn’t walk because of the thorn in its paw. Although he’s scared, the slave mustered his courage and took out the thorn in the lion’s paw. When the lion was finally free of the thorn, he ran into the forest and didn’t harm the slave. Sometime later, the slave was caught by his master along with some animals in the forest. The master then ordered the slave to be thrown into the lion’s den. When the slave saw the lion, he recognized it as the same lion he helped in the forest. The slave was able to escape the den unharmed and he freed all the other animals.\n",
    "\n",
    "There was once a proud elephant who always bullied smaller animals. He would go to the anthill near his home and spray water at the ants. The ants, with their size, could do nothing but cry. The elephant just laughed and threatened the ants that he would crush them to death. One day, the ants had enough and decided to teach the elephant a lesson. They went straight into the elephant’s trunk and started biting him. The elephant could only howl in pain. He realized his mistake and apologized to the ants and all the animals he bullied.\n"
   ]
  },
  {
   "cell_type": "code",
   "execution_count": null,
   "id": "ba4e93fb-ccc9-4138-8979-372d4cb7d30e",
   "metadata": {},
   "outputs": [],
   "source": []
  }
 ],
 "metadata": {
  "kernelspec": {
   "display_name": "Python 3 (ipykernel)",
   "language": "python",
   "name": "python3"
  },
  "language_info": {
   "codemirror_mode": {
    "name": "ipython",
    "version": 3
   },
   "file_extension": ".py",
   "mimetype": "text/x-python",
   "name": "python",
   "nbconvert_exporter": "python",
   "pygments_lexer": "ipython3",
   "version": "3.9.10"
  }
 },
 "nbformat": 4,
 "nbformat_minor": 5
}
